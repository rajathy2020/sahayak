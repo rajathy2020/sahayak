{
 "cells": [
  {
   "cell_type": "code",
   "execution_count": 1,
   "id": "effd7150-dab5-463b-9e2c-3de43802ab69",
   "metadata": {},
   "outputs": [],
   "source": [
    "from shared.models import *\n",
    "from core.dbs import setup_db"
   ]
  },
  {
   "cell_type": "code",
   "execution_count": 2,
   "id": "0700c818-8ed5-438b-a2e9-9370f67953b9",
   "metadata": {},
   "outputs": [
    {
     "name": "stdout",
     "output_type": "stream",
     "text": [
      "Connecting to DB Docsense...\n",
      "Db connected\n"
     ]
    }
   ],
   "source": [
    "await setup_db()"
   ]
  },
  {
   "cell_type": "code",
   "execution_count": 9,
   "id": "81337138-8165-4d5d-884b-2fbd51683275",
   "metadata": {},
   "outputs": [],
   "source": [
    "p1 = ParentService(name='Cooking Service', image='https://media.istockphoto.com/id/887636042/photo/the-start-of-something-delicious.webp?b=1&s=612x612&w=0&k=20&c=_z_xGlnSaqFplOQzUrLAkbOU-TC0KFfl44W3wumKcPI=')\n",
    "p2 = ParentService(name='Cleaning Service', image='https://busybeecleaningcompany.com/wp-content/uploads/2017/12/shutterstock_1675607932.jpg')\n",
    "p3 = ParentService( name='Nanny Service', image='https://t4.ftcdn.net/jpg/05/47/45/89/360_F_547458955_ZZ9X0vT69nSOdbv2e03fxvlO8wZ02Exv.jpg')"
   ]
  },
  {
   "cell_type": "code",
   "execution_count": 11,
   "id": "625e3067-0e71-40f9-9b0f-a4be638deed8",
   "metadata": {},
   "outputs": [
    {
     "data": {
      "text/plain": [
       "ParentService(id=ObjectId('6712bef1b6f5914683aee2cd'), revision_id=None, created_at=datetime.datetime(2024, 10, 18, 20, 2, 52, 285988), updated_at=None, deleted_at=None, relations={}, name='Nanny Service', image='https://t4.ftcdn.net/jpg/05/47/45/89/360_F_547458955_ZZ9X0vT69nSOdbv2e03fxvlO8wZ02Exv.jpg')"
      ]
     },
     "execution_count": 11,
     "metadata": {},
     "output_type": "execute_result"
    }
   ],
   "source": [
    "await ParentService.save_document(doc = p3)"
   ]
  },
  {
   "cell_type": "code",
   "execution_count": 20,
   "id": "fcb7c076-96de-46a6-9ef1-b5c3358f14d3",
   "metadata": {},
   "outputs": [],
   "source": [
    "s1 = SubService(\n",
    "    name=SubServiceName.VEGETARIAN_MEAL,\n",
    "    parent_service_id='6712bee4b6f5914683aee2cb',  # Cooking\n",
    "    base_price=10.0,\n",
    "    description='A simple meal',\n",
    "    price_per_extra_person=None,\n",
    "    price_per_extra_room=None,\n",
    "    duration=1.5\n",
    ")\n",
    "\n",
    "s2 = SubService(\n",
    "    name=SubServiceName.VEGAN_MEAL,\n",
    "    parent_service_id='6712bee4b6f5914683aee2cb',  # Cooking\n",
    "    base_price=10.0,\n",
    "    description='A regular meal',\n",
    "    price_per_extra_person=None,\n",
    "    price_per_extra_room=None,\n",
    "    duration=1.5\n",
    ")\n",
    "\n",
    "s3 = SubService(\n",
    "    name=SubServiceName.NON_VEGETARIAN_MEAL,\n",
    "    parent_service_id='6712bee4b6f5914683aee2cb',  # Cooking\n",
    "    base_price=10.0,\n",
    "    description='A party meal',\n",
    "    price_per_extra_person=None,\n",
    "    price_per_extra_room=None,\n",
    "    duration=1.5\n",
    ")\n",
    "\n",
    "s4 = SubService(\n",
    "    name=SubServiceName.DEEP_CLEAN,\n",
    "    parent_service_id='6712beefb6f5914683aee2cc',  # Cleaning\n",
    "    base_price=10.0,\n",
    "    description='Deep cleaning service',\n",
    "    price_per_extra_person=None,\n",
    "    price_per_extra_room=None,\n",
    "    duration=1.5\n",
    ")\n",
    "\n",
    "s5 = SubService(\n",
    "    name=SubServiceName.REGULAR_CLEAN,\n",
    "    parent_service_id='6712beefb6f5914683aee2cc',  # Cleaning\n",
    "    base_price=10.0,\n",
    "    description='Regular cleaning service',\n",
    "    price_per_extra_person=None,\n",
    "    price_per_extra_room=None,\n",
    "    duration=1.5\n",
    ")\n",
    "\n",
    "s6 = SubService(\n",
    "    name=SubServiceName.TODDLER_CARE,\n",
    "    parent_service_id='6712bef1b6f5914683aee2cd',  # Nanny\n",
    "    base_price=10.0,\n",
    "    description='Care for toddlers',\n",
    "    price_per_extra_person=None,\n",
    "    price_per_extra_room=None,\n",
    "    duration=1.5\n",
    ")\n"
   ]
  },
  {
   "cell_type": "code",
   "execution_count": 21,
   "id": "5cefc830-f2f7-4047-a3a5-2bf33c1f0fc4",
   "metadata": {},
   "outputs": [],
   "source": [
    "s1 = await SubService.save_document(doc = s1)"
   ]
  },
  {
   "cell_type": "code",
   "execution_count": 22,
   "id": "8fd2332b-99f4-41b6-b28e-988e5bd7b811",
   "metadata": {},
   "outputs": [],
   "source": [
    "s2 = await SubService.save_document(doc = s2)\n",
    "s3 = await SubService.save_document(doc = s3)\n",
    "s4 = await SubService.save_document(doc = s4)\n",
    "s5 = await SubService.save_document(doc = s5)\n",
    "s6 = await SubService.save_document(doc = s6)\n"
   ]
  },
  {
   "cell_type": "code",
   "execution_count": 23,
   "id": "57b78b47-0d11-4874-ba4e-97afda56cf00",
   "metadata": {},
   "outputs": [
    {
     "data": {
      "text/plain": [
       "[SubService(id=ObjectId('6729c2cd7c1a294cd5aafa08'), revision_id=None, created_at=datetime.datetime(2024, 11, 5, 7, 1, 22, 697000), updated_at=None, deleted_at=None, relations={}, name=<SubServiceName.VEGETARIAN_MEAL: 'vegetarian_meal'>, parent_service_id='6712bee4b6f5914683aee2cb', base_price=10.0, description='A simple meal', price_per_extra_person=None, price_per_extra_room=None, duration=1.5),\n",
       " SubService(id=ObjectId('6729c2ce7c1a294cd5aafa09'), revision_id=None, created_at=datetime.datetime(2024, 11, 5, 7, 1, 22, 697000), updated_at=None, deleted_at=None, relations={}, name=<SubServiceName.VEGAN_MEAL: 'vegan_meal'>, parent_service_id='6712bee4b6f5914683aee2cb', base_price=10.0, description='A regular meal', price_per_extra_person=None, price_per_extra_room=None, duration=1.5),\n",
       " SubService(id=ObjectId('6729c2ce7c1a294cd5aafa0a'), revision_id=None, created_at=datetime.datetime(2024, 11, 5, 7, 1, 22, 697000), updated_at=None, deleted_at=None, relations={}, name=<SubServiceName.NON_VEGETARIAN_MEAL: 'non_vegetarian_meal'>, parent_service_id='6712bee4b6f5914683aee2cb', base_price=10.0, description='A party meal', price_per_extra_person=None, price_per_extra_room=None, duration=1.5),\n",
       " SubService(id=ObjectId('6729c2ce7c1a294cd5aafa0b'), revision_id=None, created_at=datetime.datetime(2024, 11, 5, 7, 1, 22, 697000), updated_at=None, deleted_at=None, relations={}, name=<SubServiceName.DEEP_CLEAN: 'deep_clean'>, parent_service_id='6712beefb6f5914683aee2cc', base_price=10.0, description='Deep cleaning service', price_per_extra_person=None, price_per_extra_room=None, duration=1.5),\n",
       " SubService(id=ObjectId('6729c2ce7c1a294cd5aafa0c'), revision_id=None, created_at=datetime.datetime(2024, 11, 5, 7, 1, 22, 697000), updated_at=None, deleted_at=None, relations={}, name=<SubServiceName.REGULAR_CLEAN: 'regular_clean'>, parent_service_id='6712beefb6f5914683aee2cc', base_price=10.0, description='Regular cleaning service', price_per_extra_person=None, price_per_extra_room=None, duration=1.5),\n",
       " SubService(id=ObjectId('6729c2ce7c1a294cd5aafa0d'), revision_id=None, created_at=datetime.datetime(2024, 11, 5, 7, 1, 22, 697000), updated_at=None, deleted_at=None, relations={}, name=<SubServiceName.TODDLER_CARE: 'toddler_care'>, parent_service_id='6712bef1b6f5914683aee2cd', base_price=10.0, description='Care for toddlers', price_per_extra_person=None, price_per_extra_room=None, duration=1.5)]"
      ]
     },
     "execution_count": 23,
     "metadata": {},
     "output_type": "execute_result"
    }
   ],
   "source": [
    "await SubService.search_document({})"
   ]
  },
  {
   "cell_type": "code",
   "execution_count": 32,
   "id": "f331df40-cece-4cbc-8d8a-fb8d538a3fed",
   "metadata": {},
   "outputs": [],
   "source": [
    "sp1 = User(name = \"test provider 1\",\n",
    "            email = \"rajat.jain@hy.co\", \n",
    "            available_time_slots = [TimeSlot.MORNING, TimeSlot.AFTERNOON_EVENING],\n",
    "            services_offered = [\"6729c2cd7c1a294cd5aafa08\"],\n",
    "            user_type = Usertype.SERVICE_PROVIDER\n",
    "           )"
   ]
  },
  {
   "cell_type": "code",
   "execution_count": 8,
   "id": "8f693c78-dccc-437b-8c1f-39cc2f823fbc",
   "metadata": {},
   "outputs": [],
   "source": [
    "user = await User.save_document(doc = user)"
   ]
  },
  {
   "cell_type": "code",
   "execution_count": null,
   "id": "dd022531-8510-4ccb-bba7-caaf7834f1c7",
   "metadata": {},
   "outputs": [],
   "source": [
    "sp1 = User(name = \"test provider 1\",\n",
    "            email = \"rajat.jain@hy.co\", \n",
    "            available_time_slots = [TimeSlot.MORNING, TimeSlot.AFTERNOON_EVENING],\n",
    "            services_offered = [\"6729c2cd7c1a294cd5aafa08\"],\n",
    "            user_type = Usertype.SERVICE_PROVIDER\n",
    "           )"
   ]
  },
  {
   "cell_type": "code",
   "execution_count": null,
   "id": "da49e831-0073-41b0-a4f0-46c1d21f0845",
   "metadata": {},
   "outputs": [],
   "source": [
    "sp2 = User(name = \"test provider 2\",\n",
    "            email = \"test_email1@gmail.com\", \n",
    "            available_time_slots = [TimeSlot.MORNING, TimeSlot.AFTERNOON_EVENING],\n",
    "            services_offered = [\"6729c2cd7c1a294cd5aafa08\"],\n",
    "            user_type = Usertype.SERVICE_PROVIDER\n",
    "           )"
   ]
  },
  {
   "cell_type": "code",
   "execution_count": 7,
   "id": "99de0ee0-572d-4229-9934-929716e808c0",
   "metadata": {},
   "outputs": [],
   "source": [
    "user.description = \"I can cook delicious daily and party vegetarian dishes. I can also decently clean the house and help in other household works.\""
   ]
  },
  {
   "cell_type": "code",
   "execution_count": 26,
   "id": "90ff9b0d-c65e-4a2f-b4c4-f4a77d089c01",
   "metadata": {},
   "outputs": [],
   "source": [
    "client_bookings = await Booking.search_document({})"
   ]
  },
  {
   "cell_type": "code",
   "execution_count": 27,
   "id": "61d02067-b244-4922-9d91-742295e726bc",
   "metadata": {},
   "outputs": [
    {
     "data": {
      "text/plain": [
       "[]"
      ]
     },
     "execution_count": 27,
     "metadata": {},
     "output_type": "execute_result"
    }
   ],
   "source": [
    "client_bookings"
   ]
  },
  {
   "cell_type": "code",
   "execution_count": 5,
   "id": "de17012e-700d-4dbe-8e1d-7e07eef7003c",
   "metadata": {},
   "outputs": [],
   "source": [
    "user = await User.get_document(\"672a02557c1a294cd5aafa0f\")"
   ]
  },
  {
   "cell_type": "code",
   "execution_count": 6,
   "id": "4135aa22-d7dd-439f-8931-c15ae0f0c84c",
   "metadata": {},
   "outputs": [
    {
     "data": {
      "text/plain": [
       "User(id=ObjectId('672a02557c1a294cd5aafa0f'), revision_id=None, created_at=datetime.datetime(2024, 11, 5, 11, 32, 37, 307000), updated_at=None, deleted_at=None, relations={}, name='test provider 1', email='rajat.jain@hy.co', city=None, address=None, user_type=<Usertype.SERVICE_PROVIDER: 'SERVICE_PROVIDER'>, stripe_customer_id=None, stripe_paymemt_methods=[], stripe_account_id='acct_1QHl7NIvCzSjbF3j', services_offered=['6729c2cd7c1a294cd5aafa08'], available_time_slots=[<TimeSlot.MORNING: '9am-12pm'>, <TimeSlot.AFTERNOON_EVENING: '3pm-8pm'>], services_offered_details=None, description=None)"
      ]
     },
     "execution_count": 6,
     "metadata": {},
     "output_type": "execute_result"
    }
   ],
   "source": [
    "user"
   ]
  },
  {
   "cell_type": "code",
   "execution_count": null,
   "id": "5e2e16e2-81a1-4bc6-895e-e30f61784a65",
   "metadata": {},
   "outputs": [],
   "source": []
  }
 ],
 "metadata": {
  "kernelspec": {
   "display_name": "Python 3 (ipykernel)",
   "language": "python",
   "name": "python3"
  },
  "language_info": {
   "codemirror_mode": {
    "name": "ipython",
    "version": 3
   },
   "file_extension": ".py",
   "mimetype": "text/x-python",
   "name": "python",
   "nbconvert_exporter": "python",
   "pygments_lexer": "ipython3",
   "version": "3.9.20"
  }
 },
 "nbformat": 4,
 "nbformat_minor": 5
}
