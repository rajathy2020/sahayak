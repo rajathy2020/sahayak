{
 "cells": [
  {
   "cell_type": "code",
   "execution_count": 20,
   "id": "effd7150-dab5-463b-9e2c-3de43802ab69",
   "metadata": {},
   "outputs": [],
   "source": [
    "from shared.models import *\n",
    "from core.dbs import setup_db"
   ]
  },
  {
   "cell_type": "code",
   "execution_count": 21,
   "id": "0700c818-8ed5-438b-a2e9-9370f67953b9",
   "metadata": {},
   "outputs": [
    {
     "name": "stdout",
     "output_type": "stream",
     "text": [
      "Connecting to DB Docsense...\n",
      "Db connected\n"
     ]
    }
   ],
   "source": [
    "await setup_db()"
   ]
  },
  {
   "cell_type": "code",
   "execution_count": 38,
   "id": "81337138-8165-4d5d-884b-2fbd51683275",
   "metadata": {},
   "outputs": [],
   "source": [
    "p1 = ParentService(name='Cooking Service', image='https://media.istockphoto.com/id/887636042/photo/the-start-of-something-delicious.webp?b=1&s=612x612&w=0&k=20&c=_z_xGlnSaqFplOQzUrLAkbOU-TC0KFfl44W3wumKcPI=')\n",
    "p2 = ParentService(name='Cleaning Service', image='https://busybeecleaningcompany.com/wp-content/uploads/2017/12/shutterstock_1675607932.jpg')\n",
    "p3 = ParentService( name='Nanny Service', image='https://t4.ftcdn.net/jpg/05/47/45/89/360_F_547458955_ZZ9X0vT69nSOdbv2e03fxvlO8wZ02Exv.jpg')"
   ]
  },
  {
   "cell_type": "code",
   "execution_count": 39,
   "id": "d18696be-4f38-4114-88fb-82ae03046fc1",
   "metadata": {},
   "outputs": [],
   "source": [
    "p4 = ParentService( name='Combo Service', image='https://thumbs.dreamstime.com/b/shopping-cleaning-washing-cooking-woman-housewife-homework-housekeeping-31128128.jpg')"
   ]
  },
  {
   "cell_type": "code",
   "execution_count": 40,
   "id": "625e3067-0e71-40f9-9b0f-a4be638deed8",
   "metadata": {},
   "outputs": [],
   "source": [
    "p1 = await ParentService.save_document(doc = p1)\n",
    "p2 = await ParentService.save_document(doc = p2)\n",
    "p3 =await ParentService.save_document(doc = p3)\n",
    "p4 = await ParentService.save_document(doc = p4)"
   ]
  },
  {
   "cell_type": "code",
   "execution_count": 81,
   "id": "fcb7c076-96de-46a6-9ef1-b5c3358f14d3",
   "metadata": {},
   "outputs": [],
   "source": [
    "s1 = SubService(\n",
    "    name=SubServiceName.VEGETARIAN_MEAL,\n",
    "    parent_service_id=str(p1.id),  # Cooking\n",
    "    base_price=10.0,\n",
    "    description='A simple meal',\n",
    "    price_per_extra_person=None,\n",
    "    price_per_extra_room=None,\n",
    "    duration=1.5\n",
    ")\n",
    "\n",
    "s2 = SubService(\n",
    "    name=SubServiceName.VEGAN_MEAL,\n",
    "    parent_service_id=str(p1.id),# Cooking\n",
    "    base_price=10.0,\n",
    "    description='A regular meal',\n",
    "    price_per_extra_person=None,\n",
    "    price_per_extra_room=None,\n",
    "    duration=1.5\n",
    ")\n",
    "\n",
    "s3 = SubService(\n",
    "    name=SubServiceName.NON_VEGETARIAN_MEAL,\n",
    "    parent_service_id=str(p1.id),\n",
    "    base_price=10.0,\n",
    "    description='A party meal',\n",
    "    price_per_extra_person=None,\n",
    "    price_per_extra_room=None,\n",
    "    duration=1.5\n",
    ")\n",
    "\n",
    "s4 = SubService(\n",
    "    name=SubServiceName.DEEP_CLEAN,\n",
    "    parent_service_id=str(p2.id),\n",
    "    base_price=10.0,\n",
    "    description='Deep cleaning service',\n",
    "    price_per_extra_person=None,\n",
    "    price_per_extra_room=None,\n",
    "    duration=1.5\n",
    ")\n",
    "\n",
    "s5 = SubService(\n",
    "    name=SubServiceName.REGULAR_CLEAN,\n",
    "    parent_service_id=str(p2.id),\n",
    "    base_price=10.0,\n",
    "    description='Regular cleaning service',\n",
    "    price_per_extra_person=None,\n",
    "    price_per_extra_room=None,\n",
    "    duration=1.5\n",
    ")\n",
    "\n",
    "s6 = SubService(\n",
    "    name=SubServiceName.TODDLER_CARE,\n",
    "    parent_service_id=str(p3.id),\n",
    "    base_price=10.0,\n",
    "    description='Care for toddlers',\n",
    "    price_per_extra_person=None,\n",
    "    price_per_extra_room=None,\n",
    "    duration=1.5\n",
    ")\n",
    "\n",
    "s6 = SubService(\n",
    "    name=SubServiceName.KITCHEN,\n",
    "    parent_service_id=str(p3.id),\n",
    "    base_price=20.0,\n",
    "    description='Kitchen cleaning',\n",
    "    price_per_extra_person=None,\n",
    "    price_per_extra_room=None,\n",
    "    duration=1.5\n",
    ")\n",
    "\n",
    "\n",
    "s7 = SubService(\n",
    "    name=SubServiceName.BATHROOM,\n",
    "    parent_service_id=str(p3.id),\n",
    "    base_price=25.0,\n",
    "    description='Bathroom cleaning',\n",
    "    price_per_extra_person=None,\n",
    "    price_per_extra_room=None,\n",
    "    duration=1.5\n",
    ")"
   ]
  },
  {
   "cell_type": "code",
   "execution_count": 82,
   "id": "5cefc830-f2f7-4047-a3a5-2bf33c1f0fc4",
   "metadata": {},
   "outputs": [],
   "source": [
    "s1 = await SubService.save_document(doc = s1)"
   ]
  },
  {
   "cell_type": "code",
   "execution_count": 83,
   "id": "8fd2332b-99f4-41b6-b28e-988e5bd7b811",
   "metadata": {},
   "outputs": [],
   "source": [
    "s2 = await SubService.save_document(doc = s2)\n",
    "s3 = await SubService.save_document(doc = s3)\n",
    "s4 = await SubService.save_document(doc = s4)\n",
    "s5 = await SubService.save_document(doc = s5)\n",
    "s6 = await SubService.save_document(doc = s6)\n"
   ]
  },
  {
   "cell_type": "code",
   "execution_count": 85,
   "id": "57b78b47-0d11-4874-ba4e-97afda56cf00",
   "metadata": {},
   "outputs": [],
   "source": [
    "s7 = await SubService.save_document(doc = s7)\n"
   ]
  },
  {
   "cell_type": "code",
   "execution_count": 84,
   "id": "76da086d-c655-497c-b3fb-17fa5189e4b8",
   "metadata": {},
   "outputs": [
    {
     "data": {
      "text/plain": [
       "SubService(id=ObjectId('675163382f33a9e02ab83de2'), revision_id=None, created_at=datetime.datetime(2024, 12, 5, 8, 24, 16, 318245), updated_at=None, deleted_at=None, relations={}, name=<SubServiceName.VEGAN_MEAL: 'vegan_meal'>, parent_service_id='67515e622f33a9e02ab83dc6', base_price=10.0, description='A regular meal', price_per_extra_person=None, price_per_extra_room=None, duration=1.5)"
      ]
     },
     "execution_count": 84,
     "metadata": {},
     "output_type": "execute_result"
    }
   ],
   "source": [
    "s2"
   ]
  },
  {
   "cell_type": "code",
   "execution_count": 29,
   "id": "b1aa7c34-af32-4fae-94a1-d43f1f3d26e3",
   "metadata": {},
   "outputs": [],
   "source": [
    "s7 = await SubService.save_document(doc = s7)\n"
   ]
  },
  {
   "cell_type": "code",
   "execution_count": 89,
   "id": "d5960004-9ac6-4f41-929c-b4fd6ffd48e9",
   "metadata": {},
   "outputs": [],
   "source": [
    "sp1 = User(name = \"test provider 1\",\n",
    "            email = \"testemailid5@gmail.com\", \n",
    "            available_time_slots = [TimeSlot.MORNING],\n",
    "            services_offered = [str(s1.id), str(s2.id), str(s3.id), str(s4.id)],\n",
    "            user_type = Usertype.SERVICE_PROVIDER,\n",
    "           gender = \"male\",\n",
    "        description = \"I can cook delicious daily and party vegetarian dishes. I can also decently clean the house and help in other household works.\" ,\n",
    "           available_dates = {\"2024-12-05\": [TimeSlot.MORNING, TimeSlot.MIDDAY] , \"2024-06-01\": [TimeSlot.MIDDAY]},\n",
    "           city = City.BERLIN\n",
    "          )\n",
    "\n",
    "sp2 = User(name = \"test provider 2\",\n",
    "            email = \"rajat.jain@hy.co\", \n",
    "            available_time_slots = [TimeSlot.MORNING, TimeSlot.AFTERNOON_EVENING],\n",
    "            services_offered = [str(s2.id), str(s4.id)],\n",
    "            user_type = Usertype.SERVICE_PROVIDER,\n",
    "           available_dates = {\"2024-12-05\": [TimeSlot.MIDDAY] , \"2024-06-01\": [TimeSlot.MORNING]},\n",
    "           city = City.FRANKFURT\n",
    "           )\n",
    "\n",
    "sp3 = User(name = \"test provider 3\",\n",
    "            email = \"rajat.jain@hy.co\", \n",
    "            available_time_slots = [TimeSlot.MORNING, TimeSlot.AFTERNOON_EVENING],\n",
    "            services_offered = [str(s5.id), str(s1.id)],\n",
    "            user_type = Usertype.SERVICE_PROVIDER,\n",
    "            available_dates = {\"2024-12-05\": [TimeSlot.AFTERNOON_EVENING] , \"2024-06-01\": [TimeSlot.MIDDAY]},\n",
    "           city = City.BERLIN\n",
    "\n",
    "           )\n",
    "\n"
   ]
  },
  {
   "cell_type": "code",
   "execution_count": 90,
   "id": "8f693c78-dccc-437b-8c1f-39cc2f823fbc",
   "metadata": {},
   "outputs": [],
   "source": [
    "sp1 = await User.save_document(doc = sp1)\n",
    "sp2 = await User.save_document(doc = sp2)\n",
    "sp3 = await User.save_document(doc = sp3)"
   ]
  },
  {
   "cell_type": "code",
   "execution_count": 22,
   "id": "4846e15d-df63-436a-88a6-cb5047e943e2",
   "metadata": {},
   "outputs": [
    {
     "name": "stdout",
     "output_type": "stream",
     "text": [
      "test provider 1 6751634c2f33a9e02ab83deb []\n",
      "test provider 2 6751634c2f33a9e02ab83dec []\n",
      "test provider 3 6751634c2f33a9e02ab83ded []\n",
      "Rajat Jain 6751aa6e89bfed8aa42ecf66 []\n"
     ]
    }
   ],
   "source": [
    "users = await User.search_document({})\n",
    "for user in users:\n",
    "    print(user.name, user.id, user.stripe_paymemt_methods)"
   ]
  },
  {
   "cell_type": "code",
   "execution_count": 23,
   "id": "6a4aa9a5-6628-491a-b305-7b021b2adba9",
   "metadata": {},
   "outputs": [],
   "source": [
    "user = await User.get_document(doc_id = \"6751aa6e89bfed8aa42ecf66\")"
   ]
  },
  {
   "cell_type": "code",
   "execution_count": 5,
   "id": "038229ce-1fcf-4148-aeac-d25c56dcb041",
   "metadata": {},
   "outputs": [
    {
     "data": {
      "text/plain": [
       "DeleteResult({'n': 1, 'ok': 1.0}, acknowledged=True)"
      ]
     },
     "execution_count": 5,
     "metadata": {},
     "output_type": "execute_result"
    }
   ],
   "source": [
    "await user.delete()"
   ]
  },
  {
   "cell_type": "code",
   "execution_count": 24,
   "id": "22e6da1e-b345-4d09-863b-dec996c5b622",
   "metadata": {},
   "outputs": [
    {
     "data": {
      "text/plain": [
       "User(id=ObjectId('6751aa6e89bfed8aa42ecf66'), revision_id=None, created_at=datetime.datetime(2024, 12, 5, 13, 28, 14, 775000), updated_at=None, deleted_at=None, relations={}, name='Rajat Jain', gender='male', email='rajatuiet@gmail.com', city=<City.MUNICH: 'MUNICH'>, address=None, user_type=<Usertype.CLIENT: 'CLIENT'>, stripe_customer_id='cus_RLLqjTdXVguaGf', stripe_paymemt_methods=[], stripe_account_id=None, services_offered=None, available_time_slots=None, available_dates={}, blocked_dates=[], services_offered_details=None, description=None, number_of_bookings=None, whatsapp_number='666', image_url='https://lh3.googleusercontent.com/a-/ALV-UjX7tnkgl7rPUi37QeaxPfSzXt77Bv3_bXODanbmlk4ghnS2y7yUYOVvlo8VOrY5aDItmqqxTLvFrh7A2oLTTPB_3kkvwRBLGTbBNCEfYQtpKs-TQKwwsFK-UXeVTGvtQFHdNbt9Ml1-6MO1fUZT3nc6mxbt8PKT5I6IlcZ8dIc2EuVr-7LN1ptVsyC-2h3XgyiB9PY85jH3X-LHMmFaVoyZ5l1sWDAIvvPYi93uFg3cDlaZ_T2P5I0gGSSKsrZyy5eS6vhpGAykmjHH6AbyLbLazlw_bcWkwBOOX_GG0eb26tTNI23aj6Vz5FwsOMHMcMM6Ypa8rn-2lg9WGufDccnGImhj3OHtrF7nntOKTdI9xmj6ltzHCr7VoqMCenSpmqLbuP3IC8QBRo6uyCU2Ht1VX134oURneQz8nLfYmUcjmrr81Lzpcq26Ubt6H7WNhE58nsyN245aPcnXbVxokflYwupa70YAE1GZ1gVThw6VpA-ppDJnYPHSgIN8lyYOuvtA0XKQuSBB73rreIsL_ZdSXx-q9XeA1Wnkf1P90hhgvG5phKOGoUGn6XFjF4UWIDfCa4K6kK5Yn8jfJBSQWTfY0vLX-vJ7mEfnrrk3yzCWF5SZtYCIoqXurHtLW-UAae5bciwfZRJnKmbfZAwEq2BELnEPg_7JU--QMdu90tNfGmxIn7g0Psr2mTArQQobBfwaK9YWCe3BJnGf9-otW_3978qdaoOucwL3JSO40qgnhGDNTcnlC3H7Ux7U259Ig859p0KUfZj0FRDz4_x9prjN4ZSiYo6ECpAOtIgahhc5fgFYo4Om2HOpPrlIIdTCQ0tF5u9OdQUvyC6maVrsHN-6tXO9xItZqk98kXZbOQC5wAfoaOhaZWz8qZ1gG7QYlGbchMB1-WeINbvVGs8TUG3K5aAqYPQgL0zFCRRXYd_wfY0_HvIJdUE8gQU5eJehyYFMOdjnbz7lnTxTGmDzFvjG2UOW=s96-c', auth0_id='google-oauth2|106062475111533748789')"
      ]
     },
     "execution_count": 24,
     "metadata": {},
     "output_type": "execute_result"
    }
   ],
   "source": [
    "user"
   ]
  },
  {
   "cell_type": "code",
   "execution_count": null,
   "id": "f75e1df2-b7a2-4def-9ce2-64cc0cb062cb",
   "metadata": {},
   "outputs": [],
   "source": []
  }
 ],
 "metadata": {
  "kernelspec": {
   "display_name": "Python 3 (ipykernel)",
   "language": "python",
   "name": "python3"
  },
  "language_info": {
   "codemirror_mode": {
    "name": "ipython",
    "version": 3
   },
   "file_extension": ".py",
   "mimetype": "text/x-python",
   "name": "python",
   "nbconvert_exporter": "python",
   "pygments_lexer": "ipython3",
   "version": "3.9.21"
  }
 },
 "nbformat": 4,
 "nbformat_minor": 5
}
