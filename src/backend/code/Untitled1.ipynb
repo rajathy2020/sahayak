{
 "cells": [
  {
   "cell_type": "code",
   "execution_count": 1,
   "id": "effd7150-dab5-463b-9e2c-3de43802ab69",
   "metadata": {},
   "outputs": [],
   "source": [
    "from shared.models import *\n",
    "from core.dbs import setup_db"
   ]
  },
  {
   "cell_type": "code",
   "execution_count": 2,
   "id": "0700c818-8ed5-438b-a2e9-9370f67953b9",
   "metadata": {},
   "outputs": [
    {
     "name": "stdout",
     "output_type": "stream",
     "text": [
      "Connecting to DB Docsense...\n",
      "Db connected\n"
     ]
    }
   ],
   "source": [
    "await setup_db()"
   ]
  },
  {
   "cell_type": "code",
   "execution_count": 9,
   "id": "81337138-8165-4d5d-884b-2fbd51683275",
   "metadata": {},
   "outputs": [],
   "source": [
    "p1 = ParentService(name='Cooking Service', image='https://media.istockphoto.com/id/887636042/photo/the-start-of-something-delicious.webp?b=1&s=612x612&w=0&k=20&c=_z_xGlnSaqFplOQzUrLAkbOU-TC0KFfl44W3wumKcPI=')\n",
    "p2 = ParentService(name='Cleaning Service', image='https://busybeecleaningcompany.com/wp-content/uploads/2017/12/shutterstock_1675607932.jpg')\n",
    "p3 = ParentService( name='Nanny Service', image='https://t4.ftcdn.net/jpg/05/47/45/89/360_F_547458955_ZZ9X0vT69nSOdbv2e03fxvlO8wZ02Exv.jpg')"
   ]
  },
  {
   "cell_type": "code",
   "execution_count": 16,
   "id": "d18696be-4f38-4114-88fb-82ae03046fc1",
   "metadata": {},
   "outputs": [],
   "source": [
    "p4 = ParentService( name='Combo Service', image='https://thumbs.dreamstime.com/b/shopping-cleaning-washing-cooking-woman-housewife-homework-housekeeping-31128128.jpg')"
   ]
  },
  {
   "cell_type": "code",
   "execution_count": 17,
   "id": "625e3067-0e71-40f9-9b0f-a4be638deed8",
   "metadata": {},
   "outputs": [
    {
     "data": {
      "text/plain": [
       "ParentService(id=ObjectId('6732dbfd7c9900f02c673fb1'), revision_id=None, created_at=datetime.datetime(2024, 11, 12, 4, 39, 24, 761704), updated_at=None, deleted_at=None, relations={}, name='Combo Service', image='https://thumbs.dreamstime.com/b/shopping-cleaning-washing-cooking-woman-housewife-homework-housekeeping-31128128.jpg')"
      ]
     },
     "execution_count": 17,
     "metadata": {},
     "output_type": "execute_result"
    }
   ],
   "source": [
    "await ParentService.save_document(doc = p4)"
   ]
  },
  {
   "cell_type": "code",
   "execution_count": 3,
   "id": "fcb7c076-96de-46a6-9ef1-b5c3358f14d3",
   "metadata": {},
   "outputs": [],
   "source": [
    "s1 = SubService(\n",
    "    name=SubServiceName.VEGETARIAN_MEAL,\n",
    "    parent_service_id='6712bee4b6f5914683aee2cb',  # Cooking\n",
    "    base_price=10.0,\n",
    "    description='A simple meal',\n",
    "    price_per_extra_person=None,\n",
    "    price_per_extra_room=None,\n",
    "    duration=1.5\n",
    ")\n",
    "\n",
    "s2 = SubService(\n",
    "    name=SubServiceName.VEGAN_MEAL,\n",
    "    parent_service_id='6712bee4b6f5914683aee2cb',  # Cooking\n",
    "    base_price=10.0,\n",
    "    description='A regular meal',\n",
    "    price_per_extra_person=None,\n",
    "    price_per_extra_room=None,\n",
    "    duration=1.5\n",
    ")\n",
    "\n",
    "s3 = SubService(\n",
    "    name=SubServiceName.NON_VEGETARIAN_MEAL,\n",
    "    parent_service_id='6712bee4b6f5914683aee2cb',  # Cooking\n",
    "    base_price=10.0,\n",
    "    description='A party meal',\n",
    "    price_per_extra_person=None,\n",
    "    price_per_extra_room=None,\n",
    "    duration=1.5\n",
    ")\n",
    "\n",
    "s4 = SubService(\n",
    "    name=SubServiceName.DEEP_CLEAN,\n",
    "    parent_service_id='6712beefb6f5914683aee2cc',  # Cleaning\n",
    "    base_price=10.0,\n",
    "    description='Deep cleaning service',\n",
    "    price_per_extra_person=None,\n",
    "    price_per_extra_room=None,\n",
    "    duration=1.5\n",
    ")\n",
    "\n",
    "s5 = SubService(\n",
    "    name=SubServiceName.REGULAR_CLEAN,\n",
    "    parent_service_id='6712beefb6f5914683aee2cc',  # Cleaning\n",
    "    base_price=10.0,\n",
    "    description='Regular cleaning service',\n",
    "    price_per_extra_person=None,\n",
    "    price_per_extra_room=None,\n",
    "    duration=1.5\n",
    ")\n",
    "\n",
    "s6 = SubService(\n",
    "    name=SubServiceName.TODDLER_CARE,\n",
    "    parent_service_id='6712bef1b6f5914683aee2cd',  # Nanny\n",
    "    base_price=10.0,\n",
    "    description='Care for toddlers',\n",
    "    price_per_extra_person=None,\n",
    "    price_per_extra_room=None,\n",
    "    duration=1.5\n",
    ")\n",
    "\n",
    "s6 = SubService(\n",
    "    name=SubServiceName.KITCHEN,\n",
    "    parent_service_id='6712beefb6f5914683aee2cc',  # Nanny\n",
    "    base_price=20.0,\n",
    "    description='Kitchen cleaning',\n",
    "    price_per_extra_person=None,\n",
    "    price_per_extra_room=None,\n",
    "    duration=1.5\n",
    ")\n",
    "\n",
    "\n",
    "s7 = SubService(\n",
    "    name=SubServiceName.BATHROOM,\n",
    "    parent_service_id='6712beefb6f5914683aee2cc',  # Nanny\n",
    "    base_price=25.0,\n",
    "    description='Bathroom cleaning',\n",
    "    price_per_extra_person=None,\n",
    "    price_per_extra_room=None,\n",
    "    duration=1.5\n",
    ")"
   ]
  },
  {
   "cell_type": "code",
   "execution_count": 17,
   "id": "2074b1c8-26ab-426c-a37c-fb1b5fa56cea",
   "metadata": {},
   "outputs": [],
   "source": [
    "s1 = SubService(\n",
    "    name=SubServiceName.JAIN_MEAL,\n",
    "    parent_service_id='6712bee4b6f5914683aee2cb', \n",
    "    base_price=10.0,\n",
    "    description='a jain meal',\n",
    "    price_per_extra_person=None,\n",
    "    price_per_extra_room=None,\n",
    "    duration=1\n",
    ")"
   ]
  },
  {
   "cell_type": "code",
   "execution_count": 18,
   "id": "5cefc830-f2f7-4047-a3a5-2bf33c1f0fc4",
   "metadata": {},
   "outputs": [],
   "source": [
    "s1 = await SubService.save_document(doc = s1)"
   ]
  },
  {
   "cell_type": "code",
   "execution_count": 22,
   "id": "8fd2332b-99f4-41b6-b28e-988e5bd7b811",
   "metadata": {},
   "outputs": [],
   "source": [
    "s2 = await SubService.save_document(doc = s2)\n",
    "s3 = await SubService.save_document(doc = s3)\n",
    "s4 = await SubService.save_document(doc = s4)\n",
    "s5 = await SubService.save_document(doc = s5)\n",
    "s6 = await SubService.save_document(doc = s6)\n"
   ]
  },
  {
   "cell_type": "code",
   "execution_count": 4,
   "id": "57b78b47-0d11-4874-ba4e-97afda56cf00",
   "metadata": {},
   "outputs": [],
   "source": [
    "s6 = await SubService.save_document(doc = s7)\n"
   ]
  },
  {
   "cell_type": "code",
   "execution_count": 5,
   "id": "b1aa7c34-af32-4fae-94a1-d43f1f3d26e3",
   "metadata": {},
   "outputs": [],
   "source": [
    "s7 = await SubService.save_document(doc = s7)\n"
   ]
  },
  {
   "cell_type": "code",
   "execution_count": 26,
   "id": "d5960004-9ac6-4f41-929c-b4fd6ffd48e9",
   "metadata": {},
   "outputs": [],
   "source": [
    "sp2 = User(name = \"test provider 5\",\n",
    "            email = \"testemailid5@gmail.com\", \n",
    "            available_time_slots = [TimeSlot.MORNING],\n",
    "            services_offered = [\"6729c2cd7c1a294cd5aafa08\",\"6729c2ce7c1a294cd5aafa09\", \"6729c2ce7c1a294cd5aafa0a\", \"6729c2ce7c1a294cd5aafa0b\",\"6729c2ce7c1a294cd5aafa0c\",\"6729c2ce7c1a294cd5aafa0d\", \"6732d597879c546a308c183f\", \"6732d602879c546a308c1842\", \"6732d5f5879c546a308c1841\", \"6732d656879c546a308c1844\"],\n",
    "            user_type = Usertype.SERVICE_PROVIDER,\n",
    "           gender = \"male\",\n",
    "description = \"I can cook delicious daily and party vegetarian dishes. I can also decently clean the house and help in other household works.\"           )"
   ]
  },
  {
   "cell_type": "code",
   "execution_count": 27,
   "id": "8f693c78-dccc-437b-8c1f-39cc2f823fbc",
   "metadata": {},
   "outputs": [],
   "source": [
    "user = await User.save_document(doc = sp2)"
   ]
  },
  {
   "cell_type": "code",
   "execution_count": null,
   "id": "dd022531-8510-4ccb-bba7-caaf7834f1c7",
   "metadata": {},
   "outputs": [],
   "source": [
    "sp1 = User(name = \"test provider 1\",\n",
    "            email = \"rajat.jain@hy.co\", \n",
    "            available_time_slots = [TimeSlot.MORNING, TimeSlot.AFTERNOON_EVENING],\n",
    "            services_offered = [\"6729c2cd7c1a294cd5aafa08\"],\n",
    "            user_type = Usertype.SERVICE_PROVIDER\n",
    "           )"
   ]
  },
  {
   "cell_type": "code",
   "execution_count": null,
   "id": "da49e831-0073-41b0-a4f0-46c1d21f0845",
   "metadata": {},
   "outputs": [],
   "source": [
    "sp2 = User(name = \"test provider 2\",\n",
    "            email = \"test_email1@gmail.com\", \n",
    "            available_time_slots = [TimeSlot.MORNING, TimeSlot.AFTERNOON_EVENING],\n",
    "            services_offered = [\"6729c2cd7c1a294cd5aafa08\"],\n",
    "            user_type = Usertype.SERVICE_PROVIDER\n",
    "           )"
   ]
  },
  {
   "cell_type": "code",
   "execution_count": 7,
   "id": "99de0ee0-572d-4229-9934-929716e808c0",
   "metadata": {},
   "outputs": [],
   "source": [
    "user.description = \"I can cook delicious daily and party vegetarian dishes. I can also decently clean the house and help in other household works.\""
   ]
  },
  {
   "cell_type": "code",
   "execution_count": 26,
   "id": "90ff9b0d-c65e-4a2f-b4c4-f4a77d089c01",
   "metadata": {},
   "outputs": [],
   "source": [
    "client_bookings = await Booking.search_document({})"
   ]
  },
  {
   "cell_type": "code",
   "execution_count": 27,
   "id": "61d02067-b244-4922-9d91-742295e726bc",
   "metadata": {},
   "outputs": [
    {
     "data": {
      "text/plain": [
       "[]"
      ]
     },
     "execution_count": 27,
     "metadata": {},
     "output_type": "execute_result"
    }
   ],
   "source": [
    "client_bookings"
   ]
  },
  {
   "cell_type": "code",
   "execution_count": 5,
   "id": "de17012e-700d-4dbe-8e1d-7e07eef7003c",
   "metadata": {},
   "outputs": [],
   "source": [
    "user = await User.get_document(\"672a02557c1a294cd5aafa0f\")"
   ]
  },
  {
   "cell_type": "code",
   "execution_count": 6,
   "id": "4135aa22-d7dd-439f-8931-c15ae0f0c84c",
   "metadata": {},
   "outputs": [
    {
     "data": {
      "text/plain": [
       "User(id=ObjectId('672a02557c1a294cd5aafa0f'), revision_id=None, created_at=datetime.datetime(2024, 11, 5, 11, 32, 37, 307000), updated_at=None, deleted_at=None, relations={}, name='test provider 1', email='rajat.jain@hy.co', city=None, address=None, user_type=<Usertype.SERVICE_PROVIDER: 'SERVICE_PROVIDER'>, stripe_customer_id=None, stripe_paymemt_methods=[], stripe_account_id='acct_1QHl7NIvCzSjbF3j', services_offered=['6729c2cd7c1a294cd5aafa08'], available_time_slots=[<TimeSlot.MORNING: '9am-12pm'>, <TimeSlot.AFTERNOON_EVENING: '3pm-8pm'>], services_offered_details=None, description=None)"
      ]
     },
     "execution_count": 6,
     "metadata": {},
     "output_type": "execute_result"
    }
   ],
   "source": [
    "user"
   ]
  },
  {
   "cell_type": "code",
   "execution_count": 3,
   "id": "5e2e16e2-81a1-4bc6-895e-e30f61784a65",
   "metadata": {},
   "outputs": [],
   "source": [
    "users = await User.search_document({})"
   ]
  },
  {
   "cell_type": "code",
   "execution_count": 4,
   "id": "69562623-4db4-4395-96e6-fcf5b847f53a",
   "metadata": {},
   "outputs": [
    {
     "data": {
      "text/plain": [
       "8"
      ]
     },
     "execution_count": 4,
     "metadata": {},
     "output_type": "execute_result"
    }
   ],
   "source": [
    "len(users)"
   ]
  },
  {
   "cell_type": "code",
   "execution_count": 5,
   "id": "4846e15d-df63-436a-88a6-cb5047e943e2",
   "metadata": {},
   "outputs": [
    {
     "name": "stdout",
     "output_type": "stream",
     "text": [
      "test user 1 671574057c1a294cd5aaf9ff\n",
      "test provider 1 672a02557c1a294cd5aafa0f\n",
      "test provider 2 6732ee617c9900f02c673fb2\n",
      "test provider 3 6732ee937c9900f02c673fb3\n",
      "test provider 4 6732eeb37c9900f02c673fb4\n",
      "test provider 5 6732eee27c9900f02c673fb5\n",
      "Shiwali Kathpal 6737453392425a8997befac4\n",
      "Rajat Jain 67374f27f6a53bd70354dffb\n"
     ]
    }
   ],
   "source": [
    "for user in users:\n",
    "    print(user.name, user.id)"
   ]
  },
  {
   "cell_type": "code",
   "execution_count": 14,
   "id": "dee5ed49-647b-41fb-b08a-3e6f2295d58c",
   "metadata": {},
   "outputs": [],
   "source": [
    "test_provider_3 = await User.get_document(doc_id = \"6732ee937c9900f02c673fb3\")"
   ]
  },
  {
   "cell_type": "code",
   "execution_count": 10,
   "id": "da2e016b-d9b8-4039-b624-c77920cf0d94",
   "metadata": {},
   "outputs": [],
   "source": [
    "test_provider_3.available_dates = {\"2024-11-29\": [TimeSlot.MORNING, TimeSlot.MIDDAY] , \"2024-12-01\": [TimeSlot.MIDDAY]}"
   ]
  },
  {
   "cell_type": "code",
   "execution_count": 11,
   "id": "0752e13f-c462-473d-801f-babb8706736b",
   "metadata": {},
   "outputs": [],
   "source": [
    "test_provider_3 = await User.save_document(doc = test_provider_3)"
   ]
  },
  {
   "cell_type": "code",
   "execution_count": 13,
   "id": "0c948899-eee4-4292-946a-7999c5175ea3",
   "metadata": {},
   "outputs": [
    {
     "data": {
      "text/plain": [
       "{'2024-11-29': [<TimeSlot.MORNING: '9am-12pm'>, <TimeSlot.MIDDAY: '12pm-3pm'>],\n",
       " '2024-12-01': [<TimeSlot.MIDDAY: '12pm-3pm'>]}"
      ]
     },
     "execution_count": 13,
     "metadata": {},
     "output_type": "execute_result"
    }
   ],
   "source": [
    "test_provider_3.available_dates"
   ]
  },
  {
   "cell_type": "code",
   "execution_count": 16,
   "id": "7bca99dc-c050-45b7-aa98-fbf4f849f27b",
   "metadata": {},
   "outputs": [
    {
     "data": {
      "text/plain": [
       "{'2024-11-29': [<TimeSlot.MORNING: '9am-12pm'>, <TimeSlot.MIDDAY: '12pm-3pm'>],\n",
       " '2024-12-01': [<TimeSlot.MIDDAY: '12pm-3pm'>]}"
      ]
     },
     "execution_count": 16,
     "metadata": {},
     "output_type": "execute_result"
    }
   ],
   "source": [
    "test_provider_3.available_dates"
   ]
  },
  {
   "cell_type": "code",
   "execution_count": 17,
   "id": "046c4c92-6fae-4aa1-bf6b-524aaa5e58d6",
   "metadata": {},
   "outputs": [
    {
     "data": {
      "text/plain": [
       "<City.MUNICH: 'MUNICH'>"
      ]
     },
     "execution_count": 17,
     "metadata": {},
     "output_type": "execute_result"
    }
   ],
   "source": [
    "test_provider_3.city"
   ]
  },
  {
   "cell_type": "code",
   "execution_count": 20,
   "id": "52008235-e8a3-45b8-ba7f-9cbe69bda28f",
   "metadata": {},
   "outputs": [
    {
     "data": {
      "text/plain": [
       "[<TimeSlot.MORNING: '9am-12pm'>,\n",
       " <TimeSlot.AFTERNOON_EVENING: '3pm-8pm'>,\n",
       " <TimeSlot.NIGHT: '8pm-11pm'>]"
      ]
     },
     "execution_count": 20,
     "metadata": {},
     "output_type": "execute_result"
    }
   ],
   "source": [
    "test_provider_3.available_time_slots"
   ]
  },
  {
   "cell_type": "code",
   "execution_count": null,
   "id": "a1128f85-4367-4a23-bd5c-5326e24b420b",
   "metadata": {},
   "outputs": [],
   "source": []
  }
 ],
 "metadata": {
  "kernelspec": {
   "display_name": "Python 3 (ipykernel)",
   "language": "python",
   "name": "python3"
  },
  "language_info": {
   "codemirror_mode": {
    "name": "ipython",
    "version": 3
   },
   "file_extension": ".py",
   "mimetype": "text/x-python",
   "name": "python",
   "nbconvert_exporter": "python",
   "pygments_lexer": "ipython3",
   "version": "3.9.20"
  }
 },
 "nbformat": 4,
 "nbformat_minor": 5
}
