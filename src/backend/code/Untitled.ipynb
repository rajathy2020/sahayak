{
 "cells": [
  {
   "cell_type": "code",
   "execution_count": 1,
   "id": "0a938eb4-2301-40f7-9557-d57fe063de13",
   "metadata": {},
   "outputs": [],
   "source": [
    "from shared.models import *\n",
    "from core.dbs import setup_db\n",
    "from pydantic import BaseModel"
   ]
  },
  {
   "cell_type": "code",
   "execution_count": 2,
   "id": "f8c8e814-e3a1-4de5-8de8-5aa002ed99ac",
   "metadata": {},
   "outputs": [
    {
     "name": "stdout",
     "output_type": "stream",
     "text": [
      "Connecting to DB Docsense...\n",
      "Db connected\n"
     ]
    }
   ],
   "source": [
    "await setup_db()"
   ]
  },
  {
   "cell_type": "code",
   "execution_count": 95,
   "id": "57394fdf-53d9-440c-8bad-b27ea3411d86",
   "metadata": {},
   "outputs": [],
   "source": [
    "from datetime import time, timedelta, datetime  # Import time manipulation classes\n",
    "from typing import List, Optional, Union\n",
    "from fastapi import HTTPException\n",
    "from pydantic import BaseModel\n",
    "from enum import Enum\n",
    "\n",
    "# Enum representing time slots\n",
    "class TimeSlot(str, Enum):\n",
    "    MORNING = \"MORNING\"\n",
    "    MIDDAY = \"MIDDAY\"\n",
    "    AFTERNOON_EVENING = \"AFTERNOON_EVENING\"\n",
    "    NIGHT = \"NIGHT\"\n",
    "\n",
    "# Updated TIME_SLOT_MAPPING\n",
    "TIME_SLOT_MAPPING = {\n",
    "    TimeSlot.MORNING: (time(9, 0), time(12, 0)),\n",
    "    TimeSlot.MIDDAY: (time(12, 0), time(15, 0)),\n",
    "    TimeSlot.AFTERNOON_EVENING: (time(15, 0), time(20, 0)),\n",
    "    TimeSlot.NIGHT: (time(20, 0), time(23, 0))\n",
    "}\n",
    "\n",
    "# Example customizations for sub-services\n",
    "class CookingCustomization(BaseModel):\n",
    "    sub_service_id: str\n",
    "    number_of_people: int\n",
    "\n",
    "class CleaningCustomization(BaseModel):\n",
    "    sub_service_id: str\n",
    "    number_of_rooms: int\n",
    "\n",
    "# BookingRequest model that accepts multiple sub-services and customizations\n",
    "class BookingRequest(BaseModel):\n",
    "    sub_service_ids: List[str]\n",
    "    booked_date: datetime  # The date on which the booking is made\n",
    "    provider_id: str\n",
    "    client_id: str\n",
    "    time_slot: TimeSlot\n",
    "    customizations: Optional[List[Union[CookingCustomization, CleaningCustomization]]]\n",
    "\n",
    "async def book_service(booking_request: BookingRequest):\n",
    "    # Fetch provider and their existing bookings\n",
    "    provider = await ServiceProvider.get_document(doc_id=booking_request.provider_id)\n",
    "    if not provider:\n",
    "        raise HTTPException(status_code=404, detail=\"Provider not found\")\n",
    "    \n",
    "    # Fetch all bookings for the provider within the requested time slot\n",
    "    provider_bookings = await Booking.search_document({\"provider_id\": booking_request.provider_id, \"deleted_at\": None})\n",
    "\n",
    "    # Get booked time slots within the selected time slot\n",
    "    provider_booked_time_slots = [\n",
    "        booking for booking in provider_bookings if booking.time_slot == booking_request.time_slot\n",
    "    ]\n",
    "\n",
    "    # Fetch all sub-services to get their durations and base prices\n",
    "    sub_services = [await SubService.get_document(doc_id=sub_service_id) for sub_service_id in booking_request.sub_service_ids]\n",
    "    if not sub_services:\n",
    "        raise HTTPException(status_code=404, detail=\"One or more sub-services not found\")\n",
    "\n",
    "    # Calculate total duration and total price based on customizations\n",
    "    total_duration = timedelta()\n",
    "    total_price = 0\n",
    "\n",
    "    # Dictionary to store sub-service durations and prices\n",
    "    sub_service_details = {}\n",
    "    \n",
    "    for sub_service in sub_services:\n",
    "        # Calculate base duration and price\n",
    "        sub_service_duration = timedelta(hours=sub_service.duration)\n",
    "        sub_service_price = sub_service.base_price\n",
    "\n",
    "        # Apply customizations if provided\n",
    "        for customization in booking_request.customizations or []:\n",
    "            \n",
    "            if customization.sub_service_id == str(sub_service.id):\n",
    "                if isinstance(customization, CookingCustomization):\n",
    "                    # Increase price based on number of people\n",
    "                    sub_service_price += (customization.number_of_people -2)  * sub_service.price_per_extra_person   # 10 currency units per person\n",
    "\n",
    "                elif isinstance(customization, CleaningCustomization):\n",
    "                    # Increase price based on number of rooms\n",
    "                    print(sub_service.price_per_extra_room)\n",
    "                    sub_service_price += (customization.number_of_rooms - 2) * sub_service.price_per_extra_room  # 15 currency units per room\n",
    "\n",
    "        # Store the sub-service's total duration and price\n",
    "        sub_service_details[sub_service.id] = {\n",
    "            \"duration\": sub_service_duration,\n",
    "            \"price\": sub_service_price\n",
    "        }\n",
    "\n",
    "        # Add to the total duration and price\n",
    "        total_duration += sub_service_duration\n",
    "        total_price += sub_service_price\n",
    "\n",
    "    # Fetch the start and end time of the requested time slot (morning, midday, etc.)\n",
    "    slot_start, slot_end = TIME_SLOT_MAPPING[booking_request.time_slot]\n",
    "\n",
    "    # Calculate available time within the time slot by removing conflicts with booked slots\n",
    "    available_times = [(slot_start, slot_end)]  # Initially, the entire time slot is available\n",
    "\n",
    "    # Remove booked times from available times\n",
    "    for booking in provider_booked_time_slots:\n",
    "        booked_start, booked_end = booking.start_time.time(), booking.end_time.time()\n",
    "\n",
    "        for i, (avail_start, avail_end) in enumerate(available_times):\n",
    "            if avail_start < booked_start < avail_end:  # Conflict at the start\n",
    "                available_times[i] = (avail_start, booked_start)\n",
    "            if avail_start < booked_end < avail_end:  # Conflict at the end\n",
    "                available_times[i] = (booked_end, avail_end)\n",
    "            if booked_start <= avail_start and booked_end >= avail_end:  # Fully booked\n",
    "                available_times[i] = None\n",
    "\n",
    "        # Clean up any None values (fully booked slots)\n",
    "        available_times = [slot for slot in available_times if slot]\n",
    "\n",
    "    # Now check if any available time can accommodate the combined duration of all sub-services\n",
    "    booking_start_time = None\n",
    "    for avail_start, avail_end in available_times:\n",
    "        # Combine available start and end times with the booked date to get datetime objects\n",
    "        avail_start_dt = datetime.combine(booking_request.booked_date, avail_start)\n",
    "        avail_end_dt = datetime.combine(booking_request.booked_date, avail_end)\n",
    "\n",
    "        # Check if the available slot can accommodate the total duration\n",
    "        if avail_end_dt - avail_start_dt >= total_duration:\n",
    "            booking_start_time = avail_start_dt\n",
    "            break\n",
    "\n",
    "    if not booking_start_time:\n",
    "        raise HTTPException(status_code=400, detail=\"No available time slots for the selected time period.\")\n",
    "\n",
    "    # Calculate end time based on combined duration\n",
    "    booking_end_time = booking_start_time + total_duration\n",
    "\n",
    "    # Create the single booking entry with combined sub-service details\n",
    "    booking = Booking(\n",
    "        provider_id=booking_request.provider_id,\n",
    "        client_id=booking_request.client_id,\n",
    "        subservice_ids=booking_request.sub_service_ids,  # Storing sub-services with their details\n",
    "        time_slot=booking_request.time_slot,\n",
    "        start_time=booking_start_time,\n",
    "        end_time=booking_end_time,\n",
    "        frequency=ServiceFrequency.ONE_TIME,\n",
    "        total_price=total_price,\n",
    "        booked_date=booking_request.booked_date,\n",
    "    )\n",
    "\n",
    "    # Save the booking to the database\n",
    "    await Booking.save_document(doc=booking)\n",
    "\n",
    "    return booking\n"
   ]
  },
  {
   "cell_type": "code",
   "execution_count": 100,
   "id": "47a697dd-1f42-448a-871d-9022e0818561",
   "metadata": {},
   "outputs": [],
   "source": [
    "booking_request = BookingRequest(\n",
    "    sub_service_ids = [\"670591e8b3934169a2ddceaa\", \"67068874e52f7c540001fda7\"],\n",
    "    provider_id =  \"67059306b3934169a2ddceab\",\n",
    "    client_id = \"dddd\",\n",
    "    time_slot =  TimeSlot.AFTERNOON_EVENING.value,\n",
    "    booked_date = datetime.now(),\n",
    "    customizations = [\n",
    "        CleaningCustomization(sub_service_id = \"670591e8b3934169a2ddceaa\", number_of_rooms = 3),\n",
    "    ]\n",
    ")\n"
   ]
  },
  {
   "cell_type": "code",
   "execution_count": 101,
   "id": "459ad824-34dc-4fcc-be4c-3fb0feef4bf4",
   "metadata": {},
   "outputs": [
    {
     "name": "stdout",
     "output_type": "stream",
     "text": [
      "5.0\n"
     ]
    },
    {
     "data": {
      "text/plain": [
       "Booking(id=ObjectId('67068d25c76efc79fedd3a5e'), revision_id=None, created_at=datetime.datetime(2024, 10, 9, 14, 3, 17, 694777), updated_at=None, deleted_at=None, relations={}, client_id='dddd', provider_id='67059306b3934169a2ddceab', booked_date=datetime.datetime(2024, 10, 9, 14, 3, 17, 429505), subservice_ids=['670591e8b3934169a2ddceaa', '67068874e52f7c540001fda7'], frequency=<ServiceFrequency.ONE_TIME: 'one_time'>, start_time=datetime.datetime(2024, 10, 9, 18, 0), end_time=datetime.datetime(2024, 10, 9, 19, 30), time_slot='AFTERNOON_EVENING', total_price=25.0)"
      ]
     },
     "execution_count": 101,
     "metadata": {},
     "output_type": "execute_result"
    }
   ],
   "source": [
    "await book_service(booking_request)"
   ]
  },
  {
   "cell_type": "code",
   "execution_count": null,
   "id": "42ad4cf3-afef-4387-8020-e65757c5769a",
   "metadata": {},
   "outputs": [],
   "source": [
    "TimeSlot.MORNING.value"
   ]
  },
  {
   "cell_type": "code",
   "execution_count": 5,
   "id": "46689a8d-5a20-4d76-b9be-66bd550c5955",
   "metadata": {},
   "outputs": [],
   "source": [
    "ss = await SubService.get_document(doc_id = \"670591e8b3934169a2ddceaa\")"
   ]
  },
  {
   "cell_type": "code",
   "execution_count": 61,
   "id": "449c42c1-2802-4c94-a0d6-e0bb2d1676f5",
   "metadata": {},
   "outputs": [],
   "source": [
    "provider_bookings = await Booking.search_document({\"provider_id\": \"67059306b3934169a2ddceab\"})\n"
   ]
  },
  {
   "cell_type": "code",
   "execution_count": 62,
   "id": "816c672e-0b2f-4e33-9b3b-f9ada13ff701",
   "metadata": {},
   "outputs": [],
   "source": [
    "provider_bookings[0].deleted_at = None"
   ]
  },
  {
   "cell_type": "code",
   "execution_count": 63,
   "id": "28761e1f-ee22-4be1-b03f-331d0384af56",
   "metadata": {},
   "outputs": [
    {
     "data": {
      "text/plain": [
       "Booking(id=ObjectId('670681502278f601358a3175'), revision_id=None, created_at=datetime.datetime(2024, 10, 9, 13, 12, 48, 892000), updated_at=None, deleted_at=None, relations={}, client_id='dddd', provider_id='67059306b3934169a2ddceab', booked_date=None, subservice_ids=['670591e8b3934169a2ddceaa'], frequency=<ServiceFrequency.ONE_TIME: 'one_time'>, start_time=None, end_time=None, time_slot=None, total_price=10.0)"
      ]
     },
     "execution_count": 63,
     "metadata": {},
     "output_type": "execute_result"
    }
   ],
   "source": [
    "await Booking.save_document(doc = provider_bookings[0])"
   ]
  },
  {
   "cell_type": "code",
   "execution_count": 64,
   "id": "8032ba38-ef0f-4538-b1a2-e6737a470c21",
   "metadata": {},
   "outputs": [
    {
     "data": {
      "text/plain": [
       "BookingRequest(sub_service_ids=['670591e8b3934169a2ddceaa', '67068874e52f7c540001fda7'], booked_date=datetime.datetime(2024, 10, 9, 13, 56, 59, 736521), provider_id='67059306b3934169a2ddceab', client_id='dddd', time_slot=<TimeSlot.AFTERNOON_EVENING: 'AFTERNOON_EVENING'>, customizations=[CleaningCustomization(sub_service_id='670591e8b3934169a2ddceaa', number_of_rooms=3)])"
      ]
     },
     "execution_count": 64,
     "metadata": {},
     "output_type": "execute_result"
    }
   ],
   "source": [
    " booking_request"
   ]
  },
  {
   "cell_type": "code",
   "execution_count": 28,
   "id": "abde2488-b486-47b7-a26d-0b5558f19ded",
   "metadata": {},
   "outputs": [],
   "source": [
    "s = await SubService.save_document(doc = ss)"
   ]
  },
  {
   "cell_type": "code",
   "execution_count": 92,
   "id": "fc363929-518a-498f-a0df-54f9591ca1e3",
   "metadata": {},
   "outputs": [],
   "source": [
    "provider_bookings = await Booking.search_document({\"provider_id\": \"67059306b3934169a2ddceab\", \"deleted_at\": None})\n"
   ]
  },
  {
   "cell_type": "code",
   "execution_count": 93,
   "id": "42a29098-2f96-482d-b3d0-96a4c35bbacb",
   "metadata": {},
   "outputs": [],
   "source": [
    "for booking in provider_bookings:\n",
    "    booking.deleted_at = datetime.now()\n",
    "    await Booking.save_document(doc = booking)"
   ]
  },
  {
   "cell_type": "code",
   "execution_count": 94,
   "id": "15a2aa46-7afb-4945-8a59-7d01a99f73f0",
   "metadata": {},
   "outputs": [
    {
     "data": {
      "text/plain": [
       "[]"
      ]
     },
     "execution_count": 94,
     "metadata": {},
     "output_type": "execute_result"
    }
   ],
   "source": [
    "provider_bookings"
   ]
  },
  {
   "cell_type": "code",
   "execution_count": 29,
   "id": "aea47cda-00ce-40df-b966-be585261b2e2",
   "metadata": {},
   "outputs": [
    {
     "data": {
      "text/plain": [
       "SubService(id=ObjectId('670591e8b3934169a2ddceaa'), revision_id=None, created_at=datetime.datetime(2024, 10, 8, 20, 11, 4, 728000), updated_at=None, deleted_at=None, relations={}, name=<SubServiceName.DEEP_CLEAN: 'deep_clean'>, parent_service_id='67058f88b3934169a2ddcea9', base_price=10.0, description='DDDD', duration=0.5)"
      ]
     },
     "execution_count": 29,
     "metadata": {},
     "output_type": "execute_result"
    }
   ],
   "source": [
    "s"
   ]
  },
  {
   "cell_type": "code",
   "execution_count": 32,
   "id": "ea2375cd-5e14-430e-ae82-bdb4fefdced0",
   "metadata": {},
   "outputs": [],
   "source": [
    "ss = SubService(name = SubServiceName.REGULAR_CLEAN, parent_service_id = \"67058f88b3934169a2ddcea9\", base_price = 10.0, description = \"sss\")"
   ]
  },
  {
   "cell_type": "code",
   "execution_count": 30,
   "id": "f390b33e-06f6-4ed8-89b0-d1d580a6e97d",
   "metadata": {},
   "outputs": [
    {
     "data": {
      "text/plain": [
       "[ParentService(id=ObjectId('67058f88b3934169a2ddcea9'), revision_id=None, created_at=datetime.datetime(2024, 10, 8, 20, 0, 57, 709000), updated_at=None, deleted_at=None, relations={}, name='Cleaning', image='s')]"
      ]
     },
     "execution_count": 30,
     "metadata": {},
     "output_type": "execute_result"
    }
   ],
   "source": [
    "await ParentService.search_document({})"
   ]
  },
  {
   "cell_type": "code",
   "execution_count": 35,
   "id": "9ac180e1-7246-4841-858b-15746673f4f2",
   "metadata": {},
   "outputs": [],
   "source": [
    "ss = await SubService.save_document(ss)"
   ]
  },
  {
   "cell_type": "code",
   "execution_count": 36,
   "id": "14eca132-852f-4b03-bed9-a7efb35587c3",
   "metadata": {},
   "outputs": [],
   "source": [
    "ss.duration = 1.0"
   ]
  },
  {
   "cell_type": "code",
   "execution_count": 37,
   "id": "aa249018-a1c3-4ceb-8d5e-8d0ee4c18f59",
   "metadata": {},
   "outputs": [],
   "source": [
    "ss = await SubService.save_document(ss)"
   ]
  },
  {
   "cell_type": "code",
   "execution_count": 38,
   "id": "8b7319bc-9a73-4caf-a81a-6958ae262131",
   "metadata": {},
   "outputs": [
    {
     "data": {
      "text/plain": [
       "SubService(id=ObjectId('67068874e52f7c540001fda7'), revision_id=None, created_at=datetime.datetime(2024, 10, 9, 13, 43, 0, 528000), updated_at=None, deleted_at=None, relations={}, name=<SubServiceName.REGULAR_CLEAN: 'regular_clean'>, parent_service_id='67058f88b3934169a2ddcea9', base_price=10.0, description='sss', duration=1.0)"
      ]
     },
     "execution_count": 38,
     "metadata": {},
     "output_type": "execute_result"
    }
   ],
   "source": [
    "ss"
   ]
  },
  {
   "cell_type": "code",
   "execution_count": 8,
   "id": "f4e92755-2a97-4ac6-b574-d7eecf1fa718",
   "metadata": {},
   "outputs": [],
   "source": [
    "ss = await SubService.get_document(doc_id = \"67068874e52f7c540001fda7\")"
   ]
  },
  {
   "cell_type": "code",
   "execution_count": 9,
   "id": "eee6f13a-93f2-4188-8c21-82891cec1ece",
   "metadata": {},
   "outputs": [],
   "source": [
    "ss.price_per_extra_room = 5\n",
    "ss = await SubService.save_document(ss)"
   ]
  },
  {
   "cell_type": "code",
   "execution_count": 88,
   "id": "1d18a581-1a2d-470d-9137-f47a2f92ab94",
   "metadata": {},
   "outputs": [],
   "source": [
    " customizations = [\n",
    "        CleaningCustomization(sub_service_id = \"670591e8b3934169a2ddceaa\", number_of_rooms = 3),\n",
    "        CleaningCustomization(sub_service_id = \"67068874e52f7c540001fda7\", number_of_rooms = 4)\n",
    "    ]"
   ]
  },
  {
   "cell_type": "code",
   "execution_count": null,
   "id": "04d68b46-b2da-4580-9b86-1210074304b7",
   "metadata": {},
   "outputs": [],
   "source": []
  }
 ],
 "metadata": {
  "kernelspec": {
   "display_name": "Python 3 (ipykernel)",
   "language": "python",
   "name": "python3"
  },
  "language_info": {
   "codemirror_mode": {
    "name": "ipython",
    "version": 3
   },
   "file_extension": ".py",
   "mimetype": "text/x-python",
   "name": "python",
   "nbconvert_exporter": "python",
   "pygments_lexer": "ipython3",
   "version": "3.9.20"
  }
 },
 "nbformat": 4,
 "nbformat_minor": 5
}
